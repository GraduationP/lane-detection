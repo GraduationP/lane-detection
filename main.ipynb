{
 "cells": [
  {
   "cell_type": "code",
   "execution_count": 5,
   "id": "b5091a94",
   "metadata": {},
   "outputs": [],
   "source": [
    "import cv2\n",
    "import numpy as np"
   ]
  },
  {
   "cell_type": "code",
   "execution_count": 22,
   "id": "ea80cb0f",
   "metadata": {},
   "outputs": [],
   "source": [
    "video = cv2.VideoCapture(r'C:\\Users\\kapitoo\\Downloads\\feter_meshaltet.mp4')\n",
    "\n",
    "# Get the video properties (width, height, frames per second)\n",
    "width = int(video.get(cv2.CAP_PROP_FRAME_WIDTH))\n",
    "height = int(video.get(cv2.CAP_PROP_FRAME_HEIGHT))\n",
    "fps = int(video.get(cv2.CAP_PROP_FPS))\n",
    "\n",
    "# Define the codec and create a VideoWriter object\n",
    "fourcc = cv2.VideoWriter_fourcc(*'XVID')  # Adjust the codec as needed\n",
    "out = cv2.VideoWriter(r'C:\\Users\\kapitoo\\Downloads\\output_video.avi', fourcc, fps, (width, height))\n",
    "\n",
    "while True:\n",
    "    ret, orig_frame = video.read()\n",
    "\n",
    "    if not ret:\n",
    "        video = cv2.VideoCapture(r'C:\\Users\\kapitoo\\Downloads\\feter_meshaltet.mp4')\n",
    "        continue\n",
    "\n",
    "    frame = cv2.GaussianBlur(orig_frame, (5, 5), 0)\n",
    "    hsv = cv2.cvtColor(frame, cv2.COLOR_BGR2HSV)\n",
    "\n",
    "    # Adjusted HSV values for yellow\n",
    "    low_yellow = np.array([15, 50, 150])\n",
    "    up_yellow = np.array([35, 255, 255])\n",
    "\n",
    "    # Adjusted HSV values for white\n",
    "    low_white = np.array([0, 0, 200])\n",
    "    up_white = np.array([255, 30, 255])\n",
    "\n",
    "    # Create masks for yellow and white\n",
    "    mask_yellow = cv2.inRange(hsv, low_yellow, up_yellow)\n",
    "    mask_white = cv2.inRange(hsv, low_white, up_white)\n",
    "\n",
    "    # Combine the masks\n",
    "    combined_mask = cv2.bitwise_or(mask_yellow, mask_white)\n",
    "\n",
    "    # Set the region of interest (ROI) to a slightly lower portion of the image\n",
    "    height, width = frame.shape[:2]\n",
    "    roi_mask = np.zeros_like(combined_mask)\n",
    "    roi_mask[int(0.6 * height):height, :] = 255\n",
    "    combined_mask = cv2.bitwise_and(combined_mask, roi_mask)\n",
    "\n",
    "    edges = cv2.Canny(combined_mask, 50, 150)  # Adjust the thresholds\n",
    "\n",
    "    lines = cv2.HoughLinesP(edges, 1, np.pi / 180, threshold=50, minLineLength=50, maxLineGap=100)\n",
    "\n",
    "    if lines is not None:\n",
    "        for line in lines:\n",
    "            x1, y1, x2, y2 = line[0]\n",
    "            cv2.line(frame, (x1, y1), (x2, y2), (0, 255, 0), 5)\n",
    "\n",
    "    # Write the frame to the output video\n",
    "    out.write(frame)\n",
    "\n",
    "    cv2.imshow(\"frame\", frame)\n",
    "    cv2.imshow(\"edges\", edges)\n",
    "\n",
    "    if cv2.waitKey(30) & 0xFF == ord('q'):\n",
    "        break\n",
    "\n",
    "# Release the VideoWriter and VideoCapture objects\n",
    "out.release()\n",
    "video.release()\n",
    "cv2.destroyAllWindows()\n"
   ]
  }
 ],
 "metadata": {
  "kernelspec": {
   "display_name": "Python 3 (ipykernel)",
   "language": "python",
   "name": "python3"
  },
  "language_info": {
   "codemirror_mode": {
    "name": "ipython",
    "version": 3
   },
   "file_extension": ".py",
   "mimetype": "text/x-python",
   "name": "python",
   "nbconvert_exporter": "python",
   "pygments_lexer": "ipython3",
   "version": "3.9.13"
  }
 },
 "nbformat": 4,
 "nbformat_minor": 5
}
