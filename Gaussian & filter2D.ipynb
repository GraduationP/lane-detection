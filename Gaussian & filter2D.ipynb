{
 "cells": [
  {
   "cell_type": "code",
   "execution_count": 18,
   "id": "fb69f200",
   "metadata": {},
   "outputs": [],
   "source": [
    "import cv2\n",
    "import numpy as np\n",
    "\n",
    "# Read image\n",
    "image = cv2.imread(r'C:\\Users\\kapitoo\\Downloads\\apple.jpg', 1)  # Provide the correct file path to the image\n",
    "\n",
    "kernel_size = (5,5)\n",
    "sigma = 1.5\n",
    "\n",
    "blurred_image = cv2.GaussianBlur(image , kernel_size , sigma)\n",
    "\n",
    "cv2.imshow('Image', image)\n",
    "cv2.imshow('blurred Image', blurred_image)\n",
    "cv2.waitKey(0)\n",
    "cv2.destroyAllWindows()"
   ]
  },
  {
   "cell_type": "code",
   "execution_count": 19,
   "id": "54cf2f82",
   "metadata": {},
   "outputs": [],
   "source": [
    "def filter2d(image, kernel):\n",
    "    height, width, channels = image.shape\n",
    "    k_height, k_width = kernel.shape[:2]\n",
    "    \n",
    "    pad_height = k_height // 2\n",
    "    pad_width = k_width // 2\n",
    "    \n",
    "    output_image = np.zeros((height, width, channels), dtype=np.uint8)\n",
    "    \n",
    "    for c in range(channels):\n",
    "        for i in range(pad_height, height - pad_height):\n",
    "            for j in range(pad_width, width - pad_width):\n",
    "                neighborhood = image[i - pad_height:i + pad_height + 1, j - pad_width:j + pad_width + 1, c]\n",
    "                filtered_pixel = np.sum(neighborhood * kernel)\n",
    "                output_image[i, j, c] = filtered_pixel\n",
    "    \n",
    "    return output_image\n"
   ]
  },
  {
   "cell_type": "code",
   "execution_count": 20,
   "id": "adeca865",
   "metadata": {},
   "outputs": [],
   "source": [
    "import cv2\n",
    "import numpy as np\n",
    "\n",
    "image = cv2.imread(r'C:\\Users\\kapitoo\\Downloads\\apple.jpg', 1)\n",
    "\n",
    "kernel_size = 5  \n",
    "sigma = 1.5  \n",
    "kernel = np.fromfunction(\n",
    "    lambda x, y: (1 / (2 * np.pi * sigma ** 2)) *\n",
    "    np.exp(-((x - kernel_size // 2) ** 2 + (y - kernel_size // 2) ** 2) / (2 * sigma ** 2)),\n",
    "    (kernel_size, kernel_size)\n",
    ")\n",
    "kernel = kernel / kernel.sum()\n",
    "\n",
    "blurred_image = filter2d(image, kernel)\n",
    "\n",
    "cv2.imshow('Original Image', image)\n",
    "cv2.imshow('Blurred Image', blurred_image)\n",
    "cv2.waitKey(0)\n",
    "cv2.destroyAllWindows()\n"
   ]
  },
  {
   "cell_type": "code",
   "execution_count": null,
   "id": "818eed1f",
   "metadata": {},
   "outputs": [],
   "source": []
  }
 ],
 "metadata": {
  "kernelspec": {
   "display_name": "Python 3 (ipykernel)",
   "language": "python",
   "name": "python3"
  },
  "language_info": {
   "codemirror_mode": {
    "name": "ipython",
    "version": 3
   },
   "file_extension": ".py",
   "mimetype": "text/x-python",
   "name": "python",
   "nbconvert_exporter": "python",
   "pygments_lexer": "ipython3",
   "version": "3.9.13"
  }
 },
 "nbformat": 4,
 "nbformat_minor": 5
}
